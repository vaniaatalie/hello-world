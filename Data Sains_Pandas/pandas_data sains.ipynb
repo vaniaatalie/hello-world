{
 "cells": [
  {
   "cell_type": "code",
   "execution_count": 1,
   "id": "d32e5877-4602-446d-8901-697dc1621d12",
   "metadata": {},
   "outputs": [],
   "source": [
    "import pandas as pd"
   ]
  },
  {
   "cell_type": "code",
   "execution_count": 2,
   "id": "6ba29f59-4b11-455b-8ae6-131b91184bac",
   "metadata": {},
   "outputs": [],
   "source": [
    "import numpy as np"
   ]
  },
  {
   "cell_type": "code",
   "execution_count": 4,
   "id": "30797ba9-5d6a-4d01-b987-4911fabe0a24",
   "metadata": {},
   "outputs": [],
   "source": [
    "import matplotlib.pyplot as plt"
   ]
  },
  {
   "cell_type": "code",
   "execution_count": 6,
   "id": "3569abef-2cb9-4453-a6e1-400033cb17cf",
   "metadata": {},
   "outputs": [],
   "source": [
    "data = pd.read_csv('D:/food_delivery_datasets.csv')"
   ]
  },
  {
   "cell_type": "code",
   "execution_count": 7,
   "id": "fb536213-7d2f-471d-9f4e-110a1c4d7752",
   "metadata": {},
   "outputs": [
    {
     "data": {
      "text/html": [
       "<div>\n",
       "<style scoped>\n",
       "    .dataframe tbody tr th:only-of-type {\n",
       "        vertical-align: middle;\n",
       "    }\n",
       "\n",
       "    .dataframe tbody tr th {\n",
       "        vertical-align: top;\n",
       "    }\n",
       "\n",
       "    .dataframe thead th {\n",
       "        text-align: right;\n",
       "    }\n",
       "</style>\n",
       "<table border=\"1\" class=\"dataframe\">\n",
       "  <thead>\n",
       "    <tr style=\"text-align: right;\">\n",
       "      <th></th>\n",
       "      <th>order_id</th>\n",
       "      <th>voucher_amount</th>\n",
       "      <th>date_time</th>\n",
       "      <th>eta_seconds</th>\n",
       "      <th>food_price</th>\n",
       "      <th>cust_id</th>\n",
       "      <th>rating</th>\n",
       "      <th>delivery_fee</th>\n",
       "      <th>resto_id</th>\n",
       "      <th>status</th>\n",
       "      <th>random_id</th>\n",
       "    </tr>\n",
       "  </thead>\n",
       "  <tbody>\n",
       "    <tr>\n",
       "      <th>0</th>\n",
       "      <td>FOOD-10455</td>\n",
       "      <td>0</td>\n",
       "      <td>2018-08-12T20:35:08.001006</td>\n",
       "      <td>1800</td>\n",
       "      <td>18900</td>\n",
       "      <td>1089034</td>\n",
       "      <td>5.0</td>\n",
       "      <td>4000</td>\n",
       "      <td>742638033</td>\n",
       "      <td>Completed</td>\n",
       "      <td>0.511149</td>\n",
       "    </tr>\n",
       "    <tr>\n",
       "      <th>1</th>\n",
       "      <td>FOOD-10985</td>\n",
       "      <td>0</td>\n",
       "      <td>2018-09-23T17:44:12.243273</td>\n",
       "      <td>2173</td>\n",
       "      <td>149000</td>\n",
       "      <td>180146</td>\n",
       "      <td>5.0</td>\n",
       "      <td>11000</td>\n",
       "      <td>742767245</td>\n",
       "      <td>Completed</td>\n",
       "      <td>0.832936</td>\n",
       "    </tr>\n",
       "    <tr>\n",
       "      <th>2</th>\n",
       "      <td>FOOD-10911</td>\n",
       "      <td>0</td>\n",
       "      <td>2018-09-19T18:08:09.387991</td>\n",
       "      <td>1418</td>\n",
       "      <td>43800</td>\n",
       "      <td>366528</td>\n",
       "      <td>NaN</td>\n",
       "      <td>9000</td>\n",
       "      <td>742618303</td>\n",
       "      <td>Completed</td>\n",
       "      <td>0.828026</td>\n",
       "    </tr>\n",
       "    <tr>\n",
       "      <th>3</th>\n",
       "      <td>FOOD-10932</td>\n",
       "      <td>0</td>\n",
       "      <td>2018-09-21T01:24:35.272499</td>\n",
       "      <td>1903</td>\n",
       "      <td>39900</td>\n",
       "      <td>511038</td>\n",
       "      <td>5.0</td>\n",
       "      <td>14000</td>\n",
       "      <td>742541172</td>\n",
       "      <td>Completed</td>\n",
       "      <td>0.239377</td>\n",
       "    </tr>\n",
       "    <tr>\n",
       "      <th>4</th>\n",
       "      <td>FOOD-10961</td>\n",
       "      <td>0</td>\n",
       "      <td>2018-09-22T17:57:45.523161</td>\n",
       "      <td>1716</td>\n",
       "      <td>77700</td>\n",
       "      <td>1220358</td>\n",
       "      <td>NaN</td>\n",
       "      <td>4000</td>\n",
       "      <td>742604875</td>\n",
       "      <td>Completed</td>\n",
       "      <td>0.995587</td>\n",
       "    </tr>\n",
       "    <tr>\n",
       "      <th>...</th>\n",
       "      <td>...</td>\n",
       "      <td>...</td>\n",
       "      <td>...</td>\n",
       "      <td>...</td>\n",
       "      <td>...</td>\n",
       "      <td>...</td>\n",
       "      <td>...</td>\n",
       "      <td>...</td>\n",
       "      <td>...</td>\n",
       "      <td>...</td>\n",
       "      <td>...</td>\n",
       "    </tr>\n",
       "    <tr>\n",
       "      <th>1071</th>\n",
       "      <td>FOOD-10921</td>\n",
       "      <td>0</td>\n",
       "      <td>2018-09-20T15:01:52.152828</td>\n",
       "      <td>900</td>\n",
       "      <td>103200</td>\n",
       "      <td>1296335</td>\n",
       "      <td>5.0</td>\n",
       "      <td>4000</td>\n",
       "      <td>742742150</td>\n",
       "      <td>Completed</td>\n",
       "      <td>0.248328</td>\n",
       "    </tr>\n",
       "    <tr>\n",
       "      <th>1072</th>\n",
       "      <td>FOOD-10265</td>\n",
       "      <td>5000</td>\n",
       "      <td>2018-07-26T14:43:23.655294</td>\n",
       "      <td>1579</td>\n",
       "      <td>145700</td>\n",
       "      <td>1135466</td>\n",
       "      <td>5.0</td>\n",
       "      <td>7000</td>\n",
       "      <td>742566851</td>\n",
       "      <td>Completed</td>\n",
       "      <td>0.268251</td>\n",
       "    </tr>\n",
       "    <tr>\n",
       "      <th>1073</th>\n",
       "      <td>FOOD-10534</td>\n",
       "      <td>0</td>\n",
       "      <td>2018-08-21T20:10:59.283185</td>\n",
       "      <td>2606</td>\n",
       "      <td>177200</td>\n",
       "      <td>1383625</td>\n",
       "      <td>NaN</td>\n",
       "      <td>15000</td>\n",
       "      <td>742571888</td>\n",
       "      <td>Completed</td>\n",
       "      <td>0.132528</td>\n",
       "    </tr>\n",
       "    <tr>\n",
       "      <th>1074</th>\n",
       "      <td>FOOD-10158</td>\n",
       "      <td>0</td>\n",
       "      <td>2018-07-16T14:42:23.214427</td>\n",
       "      <td>2428</td>\n",
       "      <td>49300</td>\n",
       "      <td>1094787</td>\n",
       "      <td>5.0</td>\n",
       "      <td>9000</td>\n",
       "      <td>742725064</td>\n",
       "      <td>Completed</td>\n",
       "      <td>0.167946</td>\n",
       "    </tr>\n",
       "    <tr>\n",
       "      <th>1075</th>\n",
       "      <td>FOOD-10770</td>\n",
       "      <td>0</td>\n",
       "      <td>2018-09-11T14:18:19.494258</td>\n",
       "      <td>1547</td>\n",
       "      <td>43000</td>\n",
       "      <td>1010922</td>\n",
       "      <td>5.0</td>\n",
       "      <td>9000</td>\n",
       "      <td>742594499</td>\n",
       "      <td>Completed</td>\n",
       "      <td>0.358051</td>\n",
       "    </tr>\n",
       "  </tbody>\n",
       "</table>\n",
       "<p>1076 rows × 11 columns</p>\n",
       "</div>"
      ],
      "text/plain": [
       "        order_id  voucher_amount                   date_time  eta_seconds  \\\n",
       "0     FOOD-10455               0  2018-08-12T20:35:08.001006         1800   \n",
       "1     FOOD-10985               0  2018-09-23T17:44:12.243273         2173   \n",
       "2     FOOD-10911               0  2018-09-19T18:08:09.387991         1418   \n",
       "3     FOOD-10932               0  2018-09-21T01:24:35.272499         1903   \n",
       "4     FOOD-10961               0  2018-09-22T17:57:45.523161         1716   \n",
       "...          ...             ...                         ...          ...   \n",
       "1071  FOOD-10921               0  2018-09-20T15:01:52.152828          900   \n",
       "1072  FOOD-10265            5000  2018-07-26T14:43:23.655294         1579   \n",
       "1073  FOOD-10534               0  2018-08-21T20:10:59.283185         2606   \n",
       "1074  FOOD-10158               0  2018-07-16T14:42:23.214427         2428   \n",
       "1075  FOOD-10770               0  2018-09-11T14:18:19.494258         1547   \n",
       "\n",
       "      food_price  cust_id  rating  delivery_fee   resto_id     status  \\\n",
       "0          18900  1089034     5.0          4000  742638033  Completed   \n",
       "1         149000   180146     5.0         11000  742767245  Completed   \n",
       "2          43800   366528     NaN          9000  742618303  Completed   \n",
       "3          39900   511038     5.0         14000  742541172  Completed   \n",
       "4          77700  1220358     NaN          4000  742604875  Completed   \n",
       "...          ...      ...     ...           ...        ...        ...   \n",
       "1071      103200  1296335     5.0          4000  742742150  Completed   \n",
       "1072      145700  1135466     5.0          7000  742566851  Completed   \n",
       "1073      177200  1383625     NaN         15000  742571888  Completed   \n",
       "1074       49300  1094787     5.0          9000  742725064  Completed   \n",
       "1075       43000  1010922     5.0          9000  742594499  Completed   \n",
       "\n",
       "      random_id  \n",
       "0      0.511149  \n",
       "1      0.832936  \n",
       "2      0.828026  \n",
       "3      0.239377  \n",
       "4      0.995587  \n",
       "...         ...  \n",
       "1071   0.248328  \n",
       "1072   0.268251  \n",
       "1073   0.132528  \n",
       "1074   0.167946  \n",
       "1075   0.358051  \n",
       "\n",
       "[1076 rows x 11 columns]"
      ]
     },
     "execution_count": 7,
     "metadata": {},
     "output_type": "execute_result"
    }
   ],
   "source": [
    "data"
   ]
  },
  {
   "cell_type": "code",
   "execution_count": 9,
   "id": "4fe0f975-c177-4296-984a-84ceafd196d5",
   "metadata": {},
   "outputs": [
    {
     "data": {
      "text/plain": [
       "12900"
      ]
     },
     "execution_count": 9,
     "metadata": {},
     "output_type": "execute_result"
    }
   ],
   "source": [
    "#Harga makanan termurah\n",
    "data['food_price'].min()"
   ]
  },
  {
   "cell_type": "code",
   "execution_count": 10,
   "id": "e36bf43c-4e74-445f-8018-793fc440da1b",
   "metadata": {},
   "outputs": [
    {
     "data": {
      "text/plain": [
       "448500"
      ]
     },
     "execution_count": 10,
     "metadata": {},
     "output_type": "execute_result"
    }
   ],
   "source": [
    "#Harga makanan termahal\n",
    "data['food_price'].max()"
   ]
  },
  {
   "cell_type": "code",
   "execution_count": 13,
   "id": "22f46145-c072-40c0-9971-8b855b5da57f",
   "metadata": {},
   "outputs": [
    {
     "data": {
      "text/plain": [
       "6"
      ]
     },
     "execution_count": 13,
     "metadata": {},
     "output_type": "execute_result"
    }
   ],
   "source": [
    "#Berapa banyak rating dibawah 4?\n",
    "condition = data['rating']<4\n",
    "data['rating'][condition].count()"
   ]
  },
  {
   "cell_type": "code",
   "execution_count": null,
   "id": "bf32286c-d49f-41c8-9202-ea11df0a0248",
   "metadata": {},
   "outputs": [],
   "source": []
  }
 ],
 "metadata": {
  "kernelspec": {
   "display_name": "Python 3",
   "language": "python",
   "name": "python3"
  },
  "language_info": {
   "codemirror_mode": {
    "name": "ipython",
    "version": 3
   },
   "file_extension": ".py",
   "mimetype": "text/x-python",
   "name": "python",
   "nbconvert_exporter": "python",
   "pygments_lexer": "ipython3",
   "version": "3.8.8"
  }
 },
 "nbformat": 4,
 "nbformat_minor": 5
}
