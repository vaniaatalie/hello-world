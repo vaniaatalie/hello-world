{
 "cells": [
  {
   "cell_type": "markdown",
   "metadata": {},
   "source": [
    "# 1. Import Pandas\n",
    "\n",
    "**History of development**\n",
    "\n",
    "In 2008, pandas development began at AQR Capital Management. By the end of 2009 it had been open sourced, and is actively supported today by a community of like-minded individuals around the world who contribute their valuable time and energy to help make open source pandas possible. Thank you to all of our contributors.\n",
    "\n",
    "Since 2015, pandas is a NumFOCUS sponsored project. This will help ensure the success of development of pandas as a world-class open-source project.\n",
    "\n",
    "Timeline\n",
    "2008: Development of pandas started\n",
    "2009: pandas becomes open source\n",
    "2012: First edition of Python for Data Analysis is published\n",
    "2015: pandas becomes a NumFOCUS sponsored project\n",
    "2018: First in-person core developer sprint\n",
    "\n",
    "source : https://pandas.pydata.org/about/\n"
   ]
  },
  {
   "cell_type": "code",
   "execution_count": 1,
   "metadata": {},
   "outputs": [],
   "source": [
    "import pandas as pd\n",
    "import numpy as np"
   ]
  },
  {
   "cell_type": "code",
   "execution_count": 2,
   "metadata": {},
   "outputs": [
    {
     "data": {
      "text/plain": [
       "'0.24.1'"
      ]
     },
     "execution_count": 2,
     "metadata": {},
     "output_type": "execute_result"
    }
   ],
   "source": [
    "pd.__version__"
   ]
  },
  {
   "cell_type": "code",
   "execution_count": 3,
   "metadata": {},
   "outputs": [],
   "source": [
    "# !pip install pandas == 0.24.1"
   ]
  },
  {
   "cell_type": "code",
   "execution_count": null,
   "metadata": {},
   "outputs": [],
   "source": []
  },
  {
   "cell_type": "markdown",
   "metadata": {},
   "source": [
    "## Set Options\n",
    "\n",
    "click https://pandas.pydata.org/pandas-docs/stable/user_guide/options.html for more"
   ]
  },
  {
   "cell_type": "code",
   "execution_count": 4,
   "metadata": {},
   "outputs": [],
   "source": [
    "pd.set_option('display.notebook_repr_html', False)\n",
    "pd.set_option('display.max_columns', 8)\n",
    "pd.set_option('display.max_rows', 8)\n",
    "pd.set_option('display.width', 80)"
   ]
  },
  {
   "cell_type": "code",
   "execution_count": null,
   "metadata": {},
   "outputs": [],
   "source": []
  },
  {
   "cell_type": "markdown",
   "metadata": {},
   "source": [
    "## DataFrame"
   ]
  },
  {
   "cell_type": "code",
   "execution_count": 5,
   "metadata": {},
   "outputs": [],
   "source": [
    "A = [0,1,4,7,1,2,5,7,9,7,2]\n",
    "B = [4,1,4,6,7,9,9,4,7,1,2]\n",
    "C = [3,6,4,9,9,8,8,7,1,2,1]\n",
    "E = np.arange(200,320,len(A))\n",
    "F = np.random.normal(size=len(A))"
   ]
  },
  {
   "cell_type": "code",
   "execution_count": 6,
   "metadata": {},
   "outputs": [
    {
     "data": {
      "text/plain": [
       "array([200, 211, 222, 233, 244, 255, 266, 277, 288, 299, 310])"
      ]
     },
     "execution_count": 6,
     "metadata": {},
     "output_type": "execute_result"
    }
   ],
   "source": [
    "E"
   ]
  },
  {
   "cell_type": "code",
   "execution_count": 7,
   "metadata": {},
   "outputs": [
    {
     "data": {
      "text/plain": [
       "array([-0.34328942, -0.12018734, -0.57609796, -1.49982765,  0.95962703,\n",
       "       -2.05125215, -0.26411046, -0.34153788,  0.37413943, -0.58880687,\n",
       "       -0.44864257])"
      ]
     },
     "execution_count": 7,
     "metadata": {},
     "output_type": "execute_result"
    }
   ],
   "source": [
    "F"
   ]
  },
  {
   "cell_type": "code",
   "execution_count": 8,
   "metadata": {},
   "outputs": [],
   "source": [
    "data_gen = pd.DataFrame({'A1' : A, 'B1' : B, 'C1' : C, 'D1' : E, 'E1': F})"
   ]
  },
  {
   "cell_type": "code",
   "execution_count": 9,
   "metadata": {},
   "outputs": [
    {
     "data": {
      "text/plain": [
       "    A1  B1  C1   D1        E1\n",
       "0    0   4   3  200 -0.343289\n",
       "1    1   1   6  211 -0.120187\n",
       "2    4   4   4  222 -0.576098\n",
       "3    7   6   9  233 -1.499828\n",
       "..  ..  ..  ..  ...       ...\n",
       "7    7   4   7  277 -0.341538\n",
       "8    9   7   1  288  0.374139\n",
       "9    7   1   2  299 -0.588807\n",
       "10   2   2   1  310 -0.448643\n",
       "\n",
       "[11 rows x 5 columns]"
      ]
     },
     "execution_count": 9,
     "metadata": {},
     "output_type": "execute_result"
    }
   ],
   "source": [
    "data_gen"
   ]
  },
  {
   "cell_type": "code",
   "execution_count": 10,
   "metadata": {},
   "outputs": [
    {
     "data": {
      "text/plain": [
       "pandas.core.frame.DataFrame"
      ]
     },
     "execution_count": 10,
     "metadata": {},
     "output_type": "execute_result"
    }
   ],
   "source": [
    "type(data_gen)"
   ]
  },
  {
   "cell_type": "code",
   "execution_count": 11,
   "metadata": {},
   "outputs": [
    {
     "name": "stderr",
     "output_type": "stream",
     "text": [
      "/Users/alamhanz/anaconda/envs/py36/lib/python3.6/site-packages/ipykernel_launcher.py:2: FutureWarning: Method .as_matrix will be removed in a future version. Use .values instead.\n",
      "  \n"
     ]
    },
    {
     "data": {
      "text/plain": [
       "array([[ 0.00000000e+00,  4.00000000e+00,  3.00000000e+00,\n",
       "         2.00000000e+02, -3.43289416e-01],\n",
       "       [ 1.00000000e+00,  1.00000000e+00,  6.00000000e+00,\n",
       "         2.11000000e+02, -1.20187338e-01],\n",
       "       [ 4.00000000e+00,  4.00000000e+00,  4.00000000e+00,\n",
       "         2.22000000e+02, -5.76097956e-01],\n",
       "       [ 7.00000000e+00,  6.00000000e+00,  9.00000000e+00,\n",
       "         2.33000000e+02, -1.49982765e+00],\n",
       "       [ 1.00000000e+00,  7.00000000e+00,  9.00000000e+00,\n",
       "         2.44000000e+02,  9.59627030e-01],\n",
       "       [ 2.00000000e+00,  9.00000000e+00,  8.00000000e+00,\n",
       "         2.55000000e+02, -2.05125215e+00],\n",
       "       [ 5.00000000e+00,  9.00000000e+00,  8.00000000e+00,\n",
       "         2.66000000e+02, -2.64110458e-01],\n",
       "       [ 7.00000000e+00,  4.00000000e+00,  7.00000000e+00,\n",
       "         2.77000000e+02, -3.41537880e-01],\n",
       "       [ 9.00000000e+00,  7.00000000e+00,  1.00000000e+00,\n",
       "         2.88000000e+02,  3.74139432e-01],\n",
       "       [ 7.00000000e+00,  1.00000000e+00,  2.00000000e+00,\n",
       "         2.99000000e+02, -5.88806870e-01],\n",
       "       [ 2.00000000e+00,  2.00000000e+00,  1.00000000e+00,\n",
       "         3.10000000e+02, -4.48642570e-01]])"
      ]
     },
     "execution_count": 11,
     "metadata": {},
     "output_type": "execute_result"
    }
   ],
   "source": [
    "## To_Array\n",
    "data_gen.as_matrix()"
   ]
  },
  {
   "cell_type": "code",
   "execution_count": null,
   "metadata": {},
   "outputs": [],
   "source": []
  },
  {
   "cell_type": "markdown",
   "metadata": {},
   "source": [
    "## Series"
   ]
  },
  {
   "cell_type": "code",
   "execution_count": 12,
   "metadata": {},
   "outputs": [],
   "source": [
    "series_gen = pd.Series(A)\n",
    "series_gen2 = pd.Series(F)"
   ]
  },
  {
   "cell_type": "code",
   "execution_count": 13,
   "metadata": {},
   "outputs": [
    {
     "data": {
      "text/plain": [
       "0     0\n",
       "1     1\n",
       "2     4\n",
       "3     7\n",
       "     ..\n",
       "7     7\n",
       "8     9\n",
       "9     7\n",
       "10    2\n",
       "Length: 11, dtype: int64"
      ]
     },
     "execution_count": 13,
     "metadata": {},
     "output_type": "execute_result"
    }
   ],
   "source": [
    "series_gen"
   ]
  },
  {
   "cell_type": "code",
   "execution_count": 14,
   "metadata": {},
   "outputs": [
    {
     "data": {
      "text/plain": [
       "0    -0.343289\n",
       "1    -0.120187\n",
       "2    -0.576098\n",
       "3    -1.499828\n",
       "        ...   \n",
       "7    -0.341538\n",
       "8     0.374139\n",
       "9    -0.588807\n",
       "10   -0.448643\n",
       "Length: 11, dtype: float64"
      ]
     },
     "execution_count": 14,
     "metadata": {},
     "output_type": "execute_result"
    }
   ],
   "source": [
    "series_gen2"
   ]
  },
  {
   "cell_type": "code",
   "execution_count": 15,
   "metadata": {},
   "outputs": [
    {
     "data": {
      "text/plain": [
       "pandas.core.series.Series"
      ]
     },
     "execution_count": 15,
     "metadata": {},
     "output_type": "execute_result"
    }
   ],
   "source": [
    "type(series_gen)"
   ]
  },
  {
   "cell_type": "code",
   "execution_count": 16,
   "metadata": {},
   "outputs": [],
   "source": [
    "series_gen2 = pd.Series(A, index = ['A'+str(i) for i in range(len(A))])"
   ]
  },
  {
   "cell_type": "code",
   "execution_count": 17,
   "metadata": {},
   "outputs": [
    {
     "data": {
      "text/plain": [
       "A0     0\n",
       "A1     1\n",
       "A2     4\n",
       "A3     7\n",
       "      ..\n",
       "A7     7\n",
       "A8     9\n",
       "A9     7\n",
       "A10    2\n",
       "Length: 11, dtype: int64"
      ]
     },
     "execution_count": 17,
     "metadata": {},
     "output_type": "execute_result"
    }
   ],
   "source": [
    "series_gen2"
   ]
  },
  {
   "cell_type": "code",
   "execution_count": null,
   "metadata": {},
   "outputs": [],
   "source": []
  },
  {
   "cell_type": "code",
   "execution_count": 18,
   "metadata": {},
   "outputs": [],
   "source": [
    "## generate series of dates\n",
    "# dates = pd.date_range('2016-04-01', '2016-04-06')\n",
    "dates = pd.date_range('2016-04-01', periods=11,freq='D')\n",
    "\n",
    "series_gen3 = pd.Series(A, index = dates)"
   ]
  },
  {
   "cell_type": "code",
   "execution_count": 19,
   "metadata": {},
   "outputs": [
    {
     "data": {
      "text/plain": [
       "2016-04-01    0\n",
       "2016-04-02    1\n",
       "2016-04-03    4\n",
       "2016-04-04    7\n",
       "             ..\n",
       "2016-04-08    7\n",
       "2016-04-09    9\n",
       "2016-04-10    7\n",
       "2016-04-11    2\n",
       "Freq: D, Length: 11, dtype: int64"
      ]
     },
     "execution_count": 19,
     "metadata": {},
     "output_type": "execute_result"
    }
   ],
   "source": [
    "series_gen3"
   ]
  },
  {
   "cell_type": "code",
   "execution_count": 20,
   "metadata": {},
   "outputs": [
    {
     "data": {
      "text/plain": [
       "array([0, 1, 4, 7, 1, 2, 5, 7, 9, 7, 2])"
      ]
     },
     "execution_count": 20,
     "metadata": {},
     "output_type": "execute_result"
    }
   ],
   "source": [
    "## Reverse\n",
    "series_gen3.values"
   ]
  },
  {
   "cell_type": "code",
   "execution_count": null,
   "metadata": {},
   "outputs": [],
   "source": []
  },
  {
   "cell_type": "code",
   "execution_count": null,
   "metadata": {},
   "outputs": [],
   "source": []
  },
  {
   "cell_type": "code",
   "execution_count": 21,
   "metadata": {},
   "outputs": [],
   "source": [
    "## Notes"
   ]
  },
  {
   "cell_type": "code",
   "execution_count": 22,
   "metadata": {},
   "outputs": [
    {
     "data": {
      "text/plain": [
       "pandas.core.series.Series"
      ]
     },
     "execution_count": 22,
     "metadata": {},
     "output_type": "execute_result"
    }
   ],
   "source": [
    "type(data_gen['A1'])"
   ]
  },
  {
   "cell_type": "code",
   "execution_count": 23,
   "metadata": {},
   "outputs": [
    {
     "data": {
      "text/plain": [
       "pandas.core.frame.DataFrame"
      ]
     },
     "execution_count": 23,
     "metadata": {},
     "output_type": "execute_result"
    }
   ],
   "source": [
    "type(data_gen[['A1']])"
   ]
  },
  {
   "cell_type": "code",
   "execution_count": null,
   "metadata": {},
   "outputs": [],
   "source": []
  },
  {
   "cell_type": "code",
   "execution_count": null,
   "metadata": {},
   "outputs": [],
   "source": []
  }
 ],
 "metadata": {
  "kernelspec": {
   "display_name": "Python 3",
   "language": "python",
   "name": "python3"
  },
  "language_info": {
   "codemirror_mode": {
    "name": "ipython",
    "version": 3
   },
   "file_extension": ".py",
   "mimetype": "text/x-python",
   "name": "python",
   "nbconvert_exporter": "python",
   "pygments_lexer": "ipython3",
   "version": "3.6.7"
  }
 },
 "nbformat": 4,
 "nbformat_minor": 4
}
